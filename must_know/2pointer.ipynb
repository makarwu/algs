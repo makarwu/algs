{
 "cells": [
  {
   "cell_type": "markdown",
   "metadata": {},
   "source": [
    "## Two-Pointer Approach\n",
    "### (1) Strategy: **Opposite Ends** (Start and End Pointers)"
   ]
  },
  {
   "cell_type": "markdown",
   "metadata": {},
   "source": [
    "```python\n",
    "def two_sum_sorted(arr, target):\n",
    "    left, right = 0, len(arr) - 1\n",
    "    while left < right:\n",
    "        current_sum = arr[left] + arr[right]\n",
    "        if current_sum == target:\n",
    "            return (left, right)\n",
    "        elif current_sum < target:\n",
    "            left += 1\n",
    "        else:\n",
    "            right -= 1\n",
    "    return -1\n",
    "```"
   ]
  },
  {
   "cell_type": "markdown",
   "metadata": {},
   "source": [
    "### (2) Strategy: Same as (1) but with **Slow and Fast Pointers**\n",
    "- **When to use**: problems where you're looking for cycles, duplicates, or subarrays with certain properties\n",
    "- **slow** moves step-by-step\n",
    "- **fast** moves or skips ahead"
   ]
  },
  {
   "cell_type": "markdown",
   "metadata": {},
   "source": [
    "```python\n",
    "def has_cycle(head):\n",
    "    slow, fast = head, head\n",
    "    while fast and fast.next:\n",
    "        slow = slow.next\n",
    "        fast = fast.next.next\n",
    "        if slow == fast:\n",
    "            return True\n",
    "    return False\n",
    "````"
   ]
  },
  {
   "cell_type": "markdown",
   "metadata": {},
   "source": [
    "### (3) Strategy: Same Start but Different Speeds\n",
    "- **When to use**: In sliding window problems, two pointers start at the same position, and one pointer expands the window while the other contracts it based on certain conditions\n",
    "- **How it works**: \n",
    "    - Start with both pointers at the beginning of the array or window.\n",
    "    - Expand one pointer until a condition is met, and then adjust the other pointer to optimize or maintain the condition.\n",
    "    - This technique is great for problems involving substrings, subarrays, or optimal ranges\n",
    "- **Example**: Finding the longest substring without repeating characters."
   ]
  },
  {
   "cell_type": "markdown",
   "metadata": {},
   "source": [
    "```python\n",
    "def length_of_longest_substring(s):\n",
    "    char_set = set()\n",
    "    left = 0\n",
    "    max_length = 0\n",
    "    for right in range(len(s)):\n",
    "        while s[right] in char_set:\n",
    "            char_set.remove(s[left])\n",
    "            left += 1\n",
    "        char_set.add(s[right])\n",
    "        max_length = max(max_length, right - left + 1)\n",
    "    return max_length\n",
    "```"
   ]
  },
  {
   "cell_type": "markdown",
   "metadata": {},
   "source": [
    "### Benefits of Two-Pointer Approach\n",
    "- **Efficiency**: It reduces time complexity, often turning $\\Theta(n^2)$ problems into $\\Theta(n)$ or $\\Theta(n log n)$\n",
    "- **Simplicity**: The approach is easy to implement and highly intuitive in scenarios where you're narrowing down search ranges or optimizing sliding windows"
   ]
  }
 ],
 "metadata": {
  "interpreter": {
   "hash": "b60f5bfde2dc6003c52249e7ba87cb8994d8effec2917dd9467812f9cc41ae70"
  },
  "kernelspec": {
   "display_name": "Python 3.9.18 ('base')",
   "language": "python",
   "name": "python3"
  },
  "language_info": {
   "name": "python",
   "version": "3.9.18"
  },
  "orig_nbformat": 4
 },
 "nbformat": 4,
 "nbformat_minor": 2
}
