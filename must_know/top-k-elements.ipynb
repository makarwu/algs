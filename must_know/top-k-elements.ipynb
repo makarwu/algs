{
 "cells": [
  {
   "cell_type": "markdown",
   "metadata": {},
   "source": [
    "## Top-k-elements algorithm\n",
    "- is used to find the `k` largest or smallest elements in a collection, such as an array or list. This problem can be approached using several methods, depending on the specific requirements, such as time complexity and space complexity."
   ]
  },
  {
   "cell_type": "markdown",
   "metadata": {},
   "source": [
    "### 1. Sorting Approach (Time Complexity: O(n log n))\n",
    "- Steps:\n",
    "    1. Sort the array im ascending and descending order. Sorting the array takes $\\Theta(n\\, log\\, n)$, where $n$ is the size of the array.\n",
    "    2. Select the first or last `k` elements from the sorted array. Selecting the top `k` elements takes constant time $\\Theta(n)$\n",
    "- **When to use:** This is simple but not the most efficient if $k$ is much smaller than $n$, as the sorting step is expensive."
   ]
  },
  {
   "cell_type": "markdown",
   "metadata": {},
   "source": [
    "### 2. Min-heap Approach (Time Complexity: O(n log k))\n",
    "- Steps:\n",
    "    1. Create a min-heap (priority queue) of size `k`from the first `k`elements of the array\n",
    "    2. Iterate throught the rest of the array, and for each element:\n",
    "        - If the current element is greater than the smallest element in the heap (the root), remove the smallest element and insert the current element into the heap\n",
    "    3. Once done, the heap will contain the `k` largest elements\n",
    "- **Time complexity explanation:** \n",
    "    - Maintaining a heap size of `k` ensures that insertion and removal operations take $\\Theta(\\log k)$\n",
    "    - The first `k` elements take $\\Theta(k\\, \\log\\, k)$ to build the heap, and each of the remaining $n-k$ elements take $\\Theta(\\log k)$, leading to a total time complexity of $\\Theta(n\\, \\log\\, k)$\n",
    "- **When to use:** This is more efficient than sorting when $k$ is much smaller than $n$ "
   ]
  },
  {
   "cell_type": "markdown",
   "metadata": {},
   "source": [
    "```python\n",
    "import heapq\n",
    "\n",
    "def find_top_k_elements_min_heap(arr, k):\n",
    "    # Create a min-heap with the first k elements of the array\n",
    "    min_heap = arr[:k]\n",
    "    heapq.heapify(min_heap)\n",
    "\n",
    "    # Iterate through the remaining elements\n",
    "    for num in arr[k:]:\n",
    "        # If current element is larger than the root of the min-heap\n",
    "        if num > min_heap[0]:\n",
    "            # Replace the smallest element in the heap with the current element\n",
    "            heapq.heapreplace(min_heap, num)\n",
    "        \n",
    "    # The heap contains the top k largest elements\n",
    "    return min_heap\n",
    "```"
   ]
  },
  {
   "cell_type": "markdown",
   "metadata": {},
   "source": [
    "### 3. Quickselect (Time Complexity: O(n) on average)\n",
    "- Steps:\n",
    "    1. Use a variation of **QuickSort** algorithm, called **QuickSelect**, to partition the array around a pivot element\n",
    "    2. After partitioning, the pivot will be in its correct position in the sorted array\n",
    "    3. If the pivot index is exactly `k`, you have found the top `k` elements\n",
    "    4. If not, recursively apply the QuickSelect on the appropriate side of the pivot\n",
    "- **Time complexity explanation**:\n",
    "    - This method is an optimization over sorting. While sorting takes $\\Theta(n\\,log\\,n)$, Quickselect uses partitioning similar to QuickSort but only works on one side of the pivot\n",
    "    - On average, this algorithm runs $\\Theta(n)$ time, though its worst-case complexity is $\\Theta(n^2)$\n",
    "- **When to use:** When you need a faster average-case solution without using extra space (unlike heaps)"
   ]
  },
  {
   "cell_type": "markdown",
   "metadata": {},
   "source": [
    "```python\n",
    "import random\n",
    "\n",
    "def partition(arr, low, high):\n",
    "    pivot = arr[high]\n",
    "    i = low\n",
    "    for j in range(low, high):\n",
    "        if arr[j] >= pivot: # We want the largest elements, so compare '>='\n",
    "        arr[i], arr[j] = arr[j], arr[i]\n",
    "        i += 1\n",
    "    arr[i], arr[high] = arr[high], arr[i]\n",
    "    return i\n",
    "\n",
    "def quickselect(arr, low, high, k):\n",
    "    if low <= high:\n",
    "        pivot_index = partition(arr, low, high)\n",
    "\n",
    "        if pivot_index == k:\n",
    "            return arr[:k+1]\n",
    "        elif pivot_index < k:\n",
    "            return quickselect(arr, pivot_index + 1, high, k)\n",
    "        else:\n",
    "            return quickselect(arr, low, pivot_index - 1, k)\n",
    "\n",
    "def find_top_k_elements_quickselect(arr, k):\n",
    "    n = len(arr)\n",
    "    # k-1 because quickselect returns index-based result\n",
    "    return quickselect(arr, 0, n-1, k-1)\n",
    "```"
   ]
  }
 ],
 "metadata": {
  "language_info": {
   "name": "python"
  },
  "orig_nbformat": 4
 },
 "nbformat": 4,
 "nbformat_minor": 2
}
