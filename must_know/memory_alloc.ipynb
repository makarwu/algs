{
 "cells": [
  {
   "cell_type": "code",
   "execution_count": 1,
   "metadata": {},
   "outputs": [],
   "source": [
    "import sys\n",
    "import random\n",
    "from time import time"
   ]
  },
  {
   "cell_type": "code",
   "execution_count": 2,
   "metadata": {},
   "outputs": [],
   "source": [
    "def test_array_1(n=27):\n",
    "    data = []\n",
    "    for _ in range(n):\n",
    "        a = len(data)\n",
    "        b = sys.getsizeof(data)\n",
    "        print(\"Length: {0:3d}; Size in bytes: {1:4d}\".format(a, b))\n",
    "        data.append(None)"
   ]
  },
  {
   "cell_type": "code",
   "execution_count": 3,
   "metadata": {},
   "outputs": [
    {
     "name": "stdout",
     "output_type": "stream",
     "text": [
      "Length:   0; Size in bytes:   56\n",
      "Length:   1; Size in bytes:   88\n",
      "Length:   2; Size in bytes:   88\n",
      "Length:   3; Size in bytes:   88\n",
      "Length:   4; Size in bytes:   88\n",
      "Length:   5; Size in bytes:  120\n",
      "Length:   6; Size in bytes:  120\n",
      "Length:   7; Size in bytes:  120\n",
      "Length:   8; Size in bytes:  120\n",
      "Length:   9; Size in bytes:  184\n",
      "Length:  10; Size in bytes:  184\n",
      "Length:  11; Size in bytes:  184\n",
      "Length:  12; Size in bytes:  184\n",
      "Length:  13; Size in bytes:  184\n",
      "Length:  14; Size in bytes:  184\n",
      "Length:  15; Size in bytes:  184\n",
      "Length:  16; Size in bytes:  184\n",
      "Length:  17; Size in bytes:  248\n",
      "Length:  18; Size in bytes:  248\n",
      "Length:  19; Size in bytes:  248\n",
      "Length:  20; Size in bytes:  248\n",
      "Length:  21; Size in bytes:  248\n",
      "Length:  22; Size in bytes:  248\n",
      "Length:  23; Size in bytes:  248\n",
      "Length:  24; Size in bytes:  248\n",
      "Length:  25; Size in bytes:  312\n",
      "Length:  26; Size in bytes:  312\n"
     ]
    }
   ],
   "source": [
    "test_array_1()"
   ]
  },
  {
   "cell_type": "markdown",
   "metadata": {},
   "source": [
    "- We can redesign the experiment so that the program outputs only those values of k at which the existing capacity is exhausted. For example, on a system consistent with the results of the function above, we should output a sequence of array capacities are 0, 4, 8, 16, 25, etc."
   ]
  },
  {
   "cell_type": "code",
   "execution_count": 4,
   "metadata": {},
   "outputs": [],
   "source": [
    "def test_array_2(n=27):\n",
    "    data = []\n",
    "    max_size = 0\n",
    "    for _ in range(n):\n",
    "        a = len(data)\n",
    "        b = sys.getsizeof(data)\n",
    "        if max_size == 0:\n",
    "            max_size = b\n",
    "        if b > max_size:\n",
    "            print(\"Length: {0:3d}; Size in bytes: {1:4d}\".format(a-1, max_size))\n",
    "            max_size = b\n",
    "        data.append(None)"
   ]
  },
  {
   "cell_type": "code",
   "execution_count": 5,
   "metadata": {},
   "outputs": [
    {
     "name": "stdout",
     "output_type": "stream",
     "text": [
      "Length:   0; Size in bytes:   56\n",
      "Length:   4; Size in bytes:   88\n",
      "Length:   8; Size in bytes:  120\n",
      "Length:  16; Size in bytes:  184\n",
      "Length:  24; Size in bytes:  248\n"
     ]
    }
   ],
   "source": [
    "test_array_2()"
   ]
  },
  {
   "cell_type": "code",
   "execution_count": 6,
   "metadata": {},
   "outputs": [],
   "source": [
    "def test_array_3(n=27):\n",
    "    data = [None] * n\n",
    "    for _ in range(n):\n",
    "        a = len(data)\n",
    "        b = sys.getsizeof(data)\n",
    "        print('Length: {0:3d}; Size in bytes: {1:4d}'.format(a, b))\n",
    "        data.pop()"
   ]
  },
  {
   "cell_type": "code",
   "execution_count": 7,
   "metadata": {},
   "outputs": [
    {
     "name": "stdout",
     "output_type": "stream",
     "text": [
      "Length:  27; Size in bytes:  272\n",
      "Length:  26; Size in bytes:  272\n",
      "Length:  25; Size in bytes:  272\n",
      "Length:  24; Size in bytes:  272\n",
      "Length:  23; Size in bytes:  272\n",
      "Length:  22; Size in bytes:  272\n",
      "Length:  21; Size in bytes:  272\n",
      "Length:  20; Size in bytes:  272\n",
      "Length:  19; Size in bytes:  272\n",
      "Length:  18; Size in bytes:  272\n",
      "Length:  17; Size in bytes:  272\n",
      "Length:  16; Size in bytes:  272\n",
      "Length:  15; Size in bytes:  272\n",
      "Length:  14; Size in bytes:  272\n",
      "Length:  13; Size in bytes:  272\n",
      "Length:  12; Size in bytes:  184\n",
      "Length:  11; Size in bytes:  184\n",
      "Length:  10; Size in bytes:  184\n",
      "Length:   9; Size in bytes:  184\n",
      "Length:   8; Size in bytes:  184\n",
      "Length:   7; Size in bytes:  152\n",
      "Length:   6; Size in bytes:  152\n",
      "Length:   5; Size in bytes:  120\n",
      "Length:   4; Size in bytes:  120\n",
      "Length:   3; Size in bytes:  120\n",
      "Length:   2; Size in bytes:  120\n",
      "Length:   1; Size in bytes:   88\n"
     ]
    }
   ],
   "source": [
    "test_array_3()"
   ]
  },
  {
   "cell_type": "code",
   "execution_count": null,
   "metadata": {},
   "outputs": [],
   "source": []
  }
 ],
 "metadata": {
  "kernelspec": {
   "display_name": "base",
   "language": "python",
   "name": "python3"
  },
  "language_info": {
   "codemirror_mode": {
    "name": "ipython",
    "version": 3
   },
   "file_extension": ".py",
   "mimetype": "text/x-python",
   "name": "python",
   "nbconvert_exporter": "python",
   "pygments_lexer": "ipython3",
   "version": "3.12.4"
  }
 },
 "nbformat": 4,
 "nbformat_minor": 2
}
