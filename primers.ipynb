{
 "cells": [
  {
   "cell_type": "code",
   "execution_count": 1,
   "id": "fab486d4-ce96-417c-ae4d-a5f870a8801e",
   "metadata": {},
   "outputs": [],
   "source": [
    "from random import randint, randrange"
   ]
  },
  {
   "cell_type": "code",
   "execution_count": 3,
   "id": "6d6899b7-e67f-44bd-a93b-73feed7ad821",
   "metadata": {},
   "outputs": [
    {
     "data": {
      "text/plain": [
       "False"
      ]
     },
     "execution_count": 3,
     "metadata": {},
     "output_type": "execute_result"
    }
   ],
   "source": [
    "def multiple(n, m) -> bool:\n",
    "    return True if n % m == 0 else False\n",
    "\n",
    "multiple(6, 2)\n",
    "multiple(6, 5)"
   ]
  },
  {
   "cell_type": "code",
   "execution_count": 6,
   "id": "19b5a7da-b4df-49cd-b73f-82127561cdf7",
   "metadata": {},
   "outputs": [
    {
     "data": {
      "text/plain": [
       "False"
      ]
     },
     "execution_count": 6,
     "metadata": {},
     "output_type": "execute_result"
    }
   ],
   "source": [
    "def even(k: int) -> bool:\n",
    "    return False if k & 1 else True\n",
    "\n",
    "# bit-wise and operator: if the last bit is set, then k i s odd\n",
    "even(1)"
   ]
  },
  {
   "cell_type": "code",
   "execution_count": 2,
   "id": "cde35ff0-f6e7-4258-b611-8229524ea689",
   "metadata": {},
   "outputs": [
    {
     "name": "stdout",
     "output_type": "stream",
     "text": [
      "(1, 5)\n"
     ]
    }
   ],
   "source": [
    "from typing import List, TypeVar, Tuple, Any, Generator\n",
    "\n",
    "Num = TypeVar('Num', int, float)\n",
    "\n",
    "def minmax(data: List[Num]) -> Tuple[Num, Num]:\n",
    "    min_num = max_num = data[0]\n",
    "    for num in data:\n",
    "        if num < min_num:\n",
    "            min_num = num\n",
    "        if num > max_num:\n",
    "            max_num = num\n",
    "    return min_num, max_num\n",
    "\n",
    "l = [1, 5, 3, 2]\n",
    "print(minmax(l))"
   ]
  },
  {
   "cell_type": "code",
   "execution_count": 3,
   "id": "c3b1fcee",
   "metadata": {},
   "outputs": [
    {
     "name": "stdout",
     "output_type": "stream",
     "text": [
      "14\n"
     ]
    }
   ],
   "source": [
    "def sum_q(num: int) -> int:\n",
    "    return sum(i * i for i in range(1, num) if i < num)\n",
    "\n",
    "print(sum_q(4))"
   ]
  },
  {
   "cell_type": "code",
   "execution_count": 7,
   "id": "287463f5",
   "metadata": {},
   "outputs": [
    {
     "name": "stdout",
     "output_type": "stream",
     "text": [
      "10\n"
     ]
    }
   ],
   "source": [
    "def sum_q_odd(num: int) -> int:\n",
    "    return sum(i * i for i in range(1, num) if not even(i))\n",
    "print(sum_q_odd(4))"
   ]
  },
  {
   "cell_type": "code",
   "execution_count": 8,
   "id": "828634f1",
   "metadata": {},
   "outputs": [
    {
     "name": "stdout",
     "output_type": "stream",
     "text": [
      "None\n"
     ]
    }
   ],
   "source": [
    "def check(data: str=\"Hello\") -> bool:\n",
    "    n = len(data)\n",
    "    for j in range(n):\n",
    "        k = j - n\n",
    "        if data[j] != data[k]:\n",
    "            return False\n",
    "    return True\n",
    "print(check())"
   ]
  },
  {
   "cell_type": "markdown",
   "id": "2b0c3ece",
   "metadata": {},
   "source": [
    "## (1) Sorting Algorithms\n",
    "### (1.1) Insertion Sort"
   ]
  },
  {
   "cell_type": "code",
   "execution_count": 12,
   "id": "fc4efa26",
   "metadata": {},
   "outputs": [
    {
     "name": "stdout",
     "output_type": "stream",
     "text": [
      "[1, 2, 3, 4, 5, 6]\n"
     ]
    }
   ],
   "source": [
    "def insertion_sort(A):\n",
    "    for i in range(1, len(A)):\n",
    "        key = A[i]\n",
    "        j = i - 1\n",
    "        \n",
    "        # monotonically decreasing order\n",
    "        # in case you want the monotonically decreasing order:\n",
    "        # change to: \"key > A[j]\"\"\n",
    "        while j >= 0 and key < A[j]: \n",
    "            A[j+1] = A[j]\n",
    "            j -= 1\n",
    "\n",
    "        A[j+1] = key\n",
    "\n",
    "    return A\n",
    "\n",
    "A = [5, 2, 4, 6, 1, 3]\n",
    "print(insertion_sort(A))"
   ]
  },
  {
   "cell_type": "markdown",
   "id": "324cd50d",
   "metadata": {},
   "source": [
    "### (2) Selection Sort"
   ]
  },
  {
   "cell_type": "code",
   "execution_count": 14,
   "id": "1740fbfa",
   "metadata": {},
   "outputs": [
    {
     "name": "stdout",
     "output_type": "stream",
     "text": [
      "[1, 2, 3, 4, 5, 6]\n"
     ]
    }
   ],
   "source": [
    "def selection_sort(A):\n",
    "    n = len(A)\n",
    "    for i in range(n):\n",
    "        min_idx = i\n",
    "        for j in range(i+1, n):\n",
    "            if A[j] < A[min_idx]:\n",
    "                min_idx = j\n",
    "        A[i], A[min_idx] = A[min_idx], A[i]\n",
    "    return A\n",
    "A = [5, 2, 4, 6, 1, 3]\n",
    "print(selection_sort(A))"
   ]
  },
  {
   "cell_type": "code",
   "execution_count": null,
   "id": "389445a7",
   "metadata": {},
   "outputs": [],
   "source": []
  }
 ],
 "metadata": {
  "kernelspec": {
   "display_name": "Python 3 (ipykernel)",
   "language": "python",
   "name": "python3"
  },
  "language_info": {
   "codemirror_mode": {
    "name": "ipython",
    "version": 3
   },
   "file_extension": ".py",
   "mimetype": "text/x-python",
   "name": "python",
   "nbconvert_exporter": "python",
   "pygments_lexer": "ipython3",
   "version": "3.9.18"
  }
 },
 "nbformat": 4,
 "nbformat_minor": 5
}
