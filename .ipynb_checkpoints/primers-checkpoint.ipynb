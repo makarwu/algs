{
 "cells": [
  {
   "cell_type": "code",
   "execution_count": 1,
   "id": "fab486d4-ce96-417c-ae4d-a5f870a8801e",
   "metadata": {},
   "outputs": [],
   "source": [
    "from random import randint, randrange"
   ]
  },
  {
   "cell_type": "code",
   "execution_count": 3,
   "id": "6d6899b7-e67f-44bd-a93b-73feed7ad821",
   "metadata": {},
   "outputs": [
    {
     "data": {
      "text/plain": [
       "False"
      ]
     },
     "execution_count": 3,
     "metadata": {},
     "output_type": "execute_result"
    }
   ],
   "source": [
    "def multiple(n, m) -> bool:\n",
    "    return True if n % m == 0 else False\n",
    "\n",
    "multiple(6, 2)\n",
    "multiple(6, 5)"
   ]
  },
  {
   "cell_type": "code",
   "execution_count": 6,
   "id": "19b5a7da-b4df-49cd-b73f-82127561cdf7",
   "metadata": {},
   "outputs": [
    {
     "data": {
      "text/plain": [
       "False"
      ]
     },
     "execution_count": 6,
     "metadata": {},
     "output_type": "execute_result"
    }
   ],
   "source": [
    "def even(k: int) -> bool:\n",
    "    return False if k & 1 else True\n",
    "\n",
    "# bit-wise and operator: if the last bit is set, then k i s odd\n",
    "even(1)"
   ]
  },
  {
   "cell_type": "code",
   "execution_count": null,
   "id": "cde35ff0-f6e7-4258-b611-8229524ea689",
   "metadata": {},
   "outputs": [],
   "source": []
  }
 ],
 "metadata": {
  "kernelspec": {
   "display_name": "Python 3 (ipykernel)",
   "language": "python",
   "name": "python3"
  },
  "language_info": {
   "codemirror_mode": {
    "name": "ipython",
    "version": 3
   },
   "file_extension": ".py",
   "mimetype": "text/x-python",
   "name": "python",
   "nbconvert_exporter": "python",
   "pygments_lexer": "ipython3",
   "version": "3.9.18"
  }
 },
 "nbformat": 4,
 "nbformat_minor": 5
}
